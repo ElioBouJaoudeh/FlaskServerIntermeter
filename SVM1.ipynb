{
 "cells": [
  {
   "cell_type": "code",
   "execution_count": 110,
   "metadata": {},
   "outputs": [],
   "source": [
    "import pandas as pd\n",
    "import numpy as np\n",
    "import matplotlib.pyplot as plt\n",
    "import requests\n",
    "from requests import get"
   ]
  },
  {
   "cell_type": "code",
   "execution_count": 111,
   "metadata": {},
   "outputs": [],
   "source": [
    "    #adr = get('https://api.ipify.org').text\n",
    "    #sourceip = \"https://stat.ripe.net/data/whois/data.json?resource=\"+adr+\"%2F24\"\n",
    "    #responseip = requests.get(sourceip).json()\n",
    "    #pref2 = responseip[\"data\"][\"records\"][0][0][\"value\"]\n",
    "    #pref2=pref2[0:(len(pref2)-3)]\n",
    "    pref1=\"91.232.100.0\"\n",
    "    pref=\"94.187.8.0\"\n",
    "    #pref=\"178.162.223.43\""
   ]
  },
  {
   "cell_type": "code",
   "execution_count": 112,
   "metadata": {},
   "outputs": [],
   "source": [
    "url = 'https://stat.ripe.net/data/bgp-update-activity/data.json?endtime=2022-04-15T12%3A00%3A00&hide_empty_samples=false&max_samples=1000&resource='+pref+'&starttime=2021-04-29T00%3A00%3A00'\n",
    "r = requests.get(url)\n",
    "json = r.json()\n",
    "df = pd.DataFrame(json['data']['updates'])\n",
    "n=df.shape[0]\n",
    "\n",
    "\n"
   ]
  },
  {
   "cell_type": "markdown",
   "metadata": {},
   "source": []
  },
  {
   "cell_type": "code",
   "execution_count": 113,
   "metadata": {},
   "outputs": [],
   "source": [
    "url = 'https://stat.ripe.net/data/bgp-update-activity/data.json?endtime=2022-04-15T12%3A00%3A00&hide_empty_samples=false&max_samples=1000&resource='+pref1+'&starttime=2021-04-29T00%3A00%3A00'\n",
    "r = requests.get(url)\n",
    "json = r.json()\n",
    "df2 = pd.DataFrame(json['data']['updates'])\n",
    "\n"
   ]
  },
  {
   "cell_type": "code",
   "execution_count": 90,
   "metadata": {},
   "outputs": [],
   "source": [
    "url = 'https://stat.ripe.net/data/bgp-update-activity/data.json?endtime=2022-04-15T12%3A00%3A00&hide_empty_samples=false&max_samples=1000&resource='+pref2+'&starttime=2021-04-29T00%3A00%3A00'\n",
    "r = requests.get(url)\n",
    "json = r.json()\n",
    "df3 = pd.DataFrame(json['data']['updates'])"
   ]
  },
  {
   "cell_type": "code",
   "execution_count": 91,
   "metadata": {},
   "outputs": [],
   "source": [
    "def labelling3():\n",
    "    i=0\n",
    "    l=[]\n",
    "    m=0\n",
    "    while (i<df3.shape[0]):\n",
    "        vis=0\n",
    "        date=df3[\"starttime\"][i]\n",
    "        url1='https://stat.ripe.net/data/routing-history/data.json?resource='+pref2+'%2F24&starttime='+str(date)+'&endtime='+str(date)+'&normalise_visibility=true'\n",
    "        hist = requests.get(url1).json()\n",
    "        vis=hist[\"data\"]['by_origin'][0][\"prefixes\"][0][\"timelines\"][0][\"visibility\"]\n",
    "        if (vis>=m):\n",
    "            l.append(0)\n",
    "        else:\n",
    "            l.append(1)\n",
    "        i=i+1\n",
    "        m=max(m,vis)\n",
    "\n",
    "    df3[\"label\"]=l\n",
    "        \n",
    "    \n",
    "labelling3()\n",
    "df3.drop(\"starttime\", axis=1, inplace=True)"
   ]
  },
  {
   "cell_type": "code",
   "execution_count": 114,
   "metadata": {},
   "outputs": [
    {
     "name": "stdout",
     "output_type": "stream",
     "text": [
      "     announcements            starttime  withdrawals  label\n",
      "0               78  2021-04-29T00:00:00           17      0\n",
      "1              346  2021-04-30T00:00:00            4      1\n",
      "2               36  2021-05-01T00:00:00            0      0\n",
      "3               54  2021-05-02T00:00:00            1      0\n",
      "4               96  2021-05-03T00:00:00            0      0\n",
      "5               75  2021-05-04T00:00:00            2      0\n",
      "6              120  2021-05-05T00:00:00            3      0\n",
      "7              167  2021-05-06T00:00:00            2      0\n",
      "8               51  2021-05-07T00:00:00            6      0\n",
      "9               36  2021-05-08T00:00:00            2      0\n",
      "10              48  2021-05-09T00:00:00            1      0\n",
      "11             122  2021-05-10T00:00:00            0      0\n",
      "12              66  2021-05-11T00:00:00            0      0\n",
      "13              79  2021-05-12T00:00:00            0      0\n",
      "14              73  2021-05-13T00:00:00            2      0\n",
      "15             106  2021-05-14T00:00:00            5      0\n",
      "16              52  2021-05-15T00:00:00            6      0\n",
      "17              38  2021-05-16T00:00:00            2      0\n",
      "18              62  2021-05-17T00:00:00            8      0\n",
      "19              75  2021-05-18T00:00:00            8      0\n",
      "20              96  2021-05-19T00:00:00            4      0\n",
      "21             166  2021-05-20T00:00:00            5      0\n",
      "22              45  2021-05-21T00:00:00            0      1\n",
      "23              33  2021-05-22T00:00:00            2      1\n",
      "24             223  2021-05-23T00:00:00            5      1\n",
      "25              55  2021-05-24T00:00:00            4      1\n",
      "26            1255  2021-05-25T00:00:00           67      0\n",
      "27            1480  2021-05-26T00:00:00           34      0\n",
      "28             174  2021-05-27T00:00:00            2      0\n",
      "29              83  2021-05-28T00:00:00            2      0\n",
      "..             ...                  ...          ...    ...\n",
      "321             75  2022-03-16T00:00:00            1      1\n",
      "322             63  2022-03-17T00:00:00            3      1\n",
      "323             40  2022-03-18T00:00:00            0      1\n",
      "324             20  2022-03-19T00:00:00            0      1\n",
      "325             27  2022-03-20T00:00:00            2      1\n",
      "326            135  2022-03-21T00:00:00            5      1\n",
      "327             64  2022-03-22T00:00:00            0      1\n",
      "328             41  2022-03-23T00:00:00            0      1\n",
      "329             44  2022-03-24T00:00:00            0      1\n",
      "330             44  2022-03-25T00:00:00            0      1\n",
      "331             23  2022-03-26T00:00:00            5      1\n",
      "332            421  2022-03-27T00:00:00           13      1\n",
      "333            237  2022-03-28T00:00:00            5      1\n",
      "334            362  2022-03-29T00:00:00           12      1\n",
      "335            293  2022-03-30T00:00:00          127      1\n",
      "336            713  2022-03-31T00:00:00          169      1\n",
      "337            626  2022-04-01T00:00:00          231      1\n",
      "338           1798  2022-04-02T00:00:00          521      1\n",
      "339            941  2022-04-03T00:00:00          326      1\n",
      "340            248  2022-04-04T00:00:00          126      1\n",
      "341            252  2022-04-05T00:00:00          192      1\n",
      "342            984  2022-04-06T00:00:00          363      1\n",
      "343            964  2022-04-07T00:00:00          375      1\n",
      "344            236  2022-04-08T00:00:00          184      1\n",
      "345            182  2022-04-09T00:00:00          158      1\n",
      "346             19  2022-04-10T00:00:00            0      1\n",
      "347            254  2022-04-11T00:00:00            1      1\n",
      "348             96  2022-04-12T00:00:00            7      1\n",
      "349             58  2022-04-13T00:00:00            2      1\n",
      "350             64  2022-04-14T00:00:00            5      1\n",
      "\n",
      "[351 rows x 4 columns]\n"
     ]
    }
   ],
   "source": [
    "def labelling1():\n",
    "    i=0\n",
    "    l=[]\n",
    "    m=0\n",
    "    while (i<df.shape[0]):\n",
    "        vis=0\n",
    "        date=df[\"starttime\"][i]\n",
    "        url1='https://stat.ripe.net/data/routing-history/data.json?resource='+pref+'%2F24&starttime='+str(date)+'&endtime='+str(date)+'&normalise_visibility=true'\n",
    "        hist = requests.get(url1).json()\n",
    "        vis=hist[\"data\"]['by_origin'][0][\"prefixes\"][0][\"timelines\"][0][\"visibility\"]\n",
    "        if (vis>=m):\n",
    "            l.append(0)\n",
    "        else:\n",
    "            l.append(1)\n",
    "        i=i+1\n",
    "        m=max(m,vis)\n",
    "\n",
    "    df[\"label\"]=l\n",
    "        \n",
    "    \n",
    "labelling1()\n",
    "print(df)\n"
   ]
  },
  {
   "cell_type": "code",
   "execution_count": 115,
   "metadata": {},
   "outputs": [],
   "source": [
    "df = df.drop(0, axis=0)\n",
    "df.drop(\"starttime\", axis=1, inplace=True)"
   ]
  },
  {
   "cell_type": "code",
   "execution_count": 116,
   "metadata": {},
   "outputs": [
    {
     "name": "stdout",
     "output_type": "stream",
     "text": [
      "     announcements            starttime  withdrawals  label\n",
      "0              124  2021-04-29T00:00:00           18      0\n",
      "1               89  2021-04-30T00:00:00            6      1\n",
      "2               65  2021-05-01T00:00:00            1      0\n",
      "3               37  2021-05-02T00:00:00            1      0\n",
      "4               97  2021-05-03T00:00:00            0      0\n",
      "5               87  2021-05-04T00:00:00            3      0\n",
      "6              119  2021-05-05T00:00:00            4      0\n",
      "7               84  2021-05-06T00:00:00            5      0\n",
      "8               60  2021-05-07T00:00:00            6      1\n",
      "9               46  2021-05-08T00:00:00            5      1\n",
      "10              59  2021-05-09T00:00:00            1      1\n",
      "11             136  2021-05-10T00:00:00            3      1\n",
      "12              89  2021-05-11T00:00:00            1      1\n",
      "13             167  2021-05-12T00:00:00            3      1\n",
      "14              87  2021-05-13T00:00:00            1      1\n",
      "15              99  2021-05-14T00:00:00            4      1\n",
      "16              68  2021-05-15T00:00:00            7      1\n",
      "17              42  2021-05-16T00:00:00            2      1\n",
      "18              69  2021-05-17T00:00:00            8      1\n",
      "19              67  2021-05-18T00:00:00            5      0\n",
      "20             100  2021-05-19T00:00:00            4      0\n",
      "21             131  2021-05-20T00:00:00            4      0\n",
      "22              56  2021-05-21T00:00:00            1      1\n",
      "23             113  2021-05-22T00:00:00            2      1\n",
      "24              64  2021-05-23T00:00:00            5      1\n",
      "25              93  2021-05-24T00:00:00            7      1\n",
      "26              63  2021-05-25T00:00:00            3      1\n",
      "27             103  2021-05-26T00:00:00            3      1\n",
      "28            1793  2021-05-27T00:00:00          358      1\n",
      "29              80  2021-05-28T00:00:00            3      0\n",
      "..             ...                  ...          ...    ...\n",
      "321             91  2022-03-16T00:00:00            1      1\n",
      "322             64  2022-03-17T00:00:00            3      1\n",
      "323             66  2022-03-18T00:00:00            1      1\n",
      "324             31  2022-03-19T00:00:00            2      1\n",
      "325             29  2022-03-20T00:00:00            2      1\n",
      "326             67  2022-03-21T00:00:00            7      1\n",
      "327             80  2022-03-22T00:00:00            0      1\n",
      "328             66  2022-03-23T00:00:00            0      1\n",
      "329             46  2022-03-24T00:00:00            0      1\n",
      "330             27  2022-03-25T00:00:00            0      1\n",
      "331             39  2022-03-26T00:00:00            5      1\n",
      "332            336  2022-03-27T00:00:00           10      1\n",
      "333            100  2022-03-28T00:00:00            8      1\n",
      "334            239  2022-03-29T00:00:00            3      1\n",
      "335             88  2022-03-30T00:00:00           25      1\n",
      "336            423  2022-03-31T00:00:00           51      1\n",
      "337            266  2022-04-01T00:00:00           67      1\n",
      "338            286  2022-04-02T00:00:00          208      1\n",
      "339            145  2022-04-03T00:00:00          117      1\n",
      "340             72  2022-04-04T00:00:00            1      1\n",
      "341             75  2022-04-05T00:00:00            1      1\n",
      "342            237  2022-04-06T00:00:00           90      1\n",
      "343            165  2022-04-07T00:00:00           94      1\n",
      "344             45  2022-04-08T00:00:00            1      1\n",
      "345             31  2022-04-09T00:00:00            3      1\n",
      "346             12  2022-04-10T00:00:00            0      1\n",
      "347            249  2022-04-11T00:00:00            3      1\n",
      "348             78  2022-04-12T00:00:00            4      1\n",
      "349             64  2022-04-13T00:00:00            2      1\n",
      "350             37  2022-04-14T00:00:00            4      1\n",
      "\n",
      "[351 rows x 4 columns]\n"
     ]
    }
   ],
   "source": [
    "def labelling2():\n",
    "    i=0\n",
    "    l=[]\n",
    "    m=0\n",
    "    while (i<df2.shape[0]):\n",
    "        vis=0\n",
    "        date=df2[\"starttime\"][i]\n",
    "        url1='https://stat.ripe.net/data/routing-history/data.json?resource='+pref1+'%2F24&starttime='+str(date)+'&endtime='+str(date)+'&normalise_visibility=true'\n",
    "        hist = requests.get(url1).json()\n",
    "        vis=hist[\"data\"]['by_origin'][0][\"prefixes\"][0][\"timelines\"][0][\"visibility\"]\n",
    "        if (vis>=m):\n",
    "            l.append(0)\n",
    "        else:\n",
    "            l.append(1)\n",
    "        i=i+1\n",
    "        m=max(m,vis)\n",
    "\n",
    "    df2[\"label\"]=l\n",
    "        \n",
    "    \n",
    "labelling2()\n",
    "print(df2)"
   ]
  },
  {
   "cell_type": "code",
   "execution_count": 117,
   "metadata": {},
   "outputs": [],
   "source": [
    "df2 = df2.drop(0, axis=0)\n",
    "df2.drop(\"starttime\", axis=1, inplace=True)"
   ]
  },
  {
   "cell_type": "code",
   "execution_count": 118,
   "metadata": {},
   "outputs": [
    {
     "name": "stdout",
     "output_type": "stream",
     "text": [
      "     announcements  withdrawals  label\n",
      "1              346            4      1\n",
      "2               36            0      0\n",
      "3               54            1      0\n",
      "4               96            0      0\n",
      "5               75            2      0\n",
      "6              120            3      0\n",
      "7              167            2      0\n",
      "8               51            6      0\n",
      "9               36            2      0\n",
      "10              48            1      0\n",
      "11             122            0      0\n",
      "12              66            0      0\n",
      "13              79            0      0\n",
      "14              73            2      0\n",
      "15             106            5      0\n",
      "16              52            6      0\n",
      "17              38            2      0\n",
      "18              62            8      0\n",
      "19              75            8      0\n",
      "20              96            4      0\n",
      "21             166            5      0\n",
      "22              45            0      1\n",
      "23              33            2      1\n",
      "24             223            5      1\n",
      "25              55            4      1\n",
      "26            1255           67      0\n",
      "27            1480           34      0\n",
      "28             174            2      0\n",
      "29              83            2      0\n",
      "30              51            2      1\n",
      "..             ...          ...    ...\n",
      "321             91            1      1\n",
      "322             64            3      1\n",
      "323             66            1      1\n",
      "324             31            2      1\n",
      "325             29            2      1\n",
      "326             67            7      1\n",
      "327             80            0      1\n",
      "328             66            0      1\n",
      "329             46            0      1\n",
      "330             27            0      1\n",
      "331             39            5      1\n",
      "332            336           10      1\n",
      "333            100            8      1\n",
      "334            239            3      1\n",
      "335             88           25      1\n",
      "336            423           51      1\n",
      "337            266           67      1\n",
      "338            286          208      1\n",
      "339            145          117      1\n",
      "340             72            1      1\n",
      "341             75            1      1\n",
      "342            237           90      1\n",
      "343            165           94      1\n",
      "344             45            1      1\n",
      "345             31            3      1\n",
      "346             12            0      1\n",
      "347            249            3      1\n",
      "348             78            4      1\n",
      "349             64            2      1\n",
      "350             37            4      1\n",
      "\n",
      "[700 rows x 3 columns]\n"
     ]
    }
   ],
   "source": [
    "df = df.append(df2)\n",
    "print(df)\n"
   ]
  },
  {
   "cell_type": "code",
   "execution_count": 119,
   "metadata": {},
   "outputs": [],
   "source": [
    "from sklearn.model_selection import train_test_split\n",
    "training_set, test_set = train_test_split(df, test_size = 0.2,shuffle=False)"
   ]
  },
  {
   "cell_type": "code",
   "execution_count": 120,
   "metadata": {},
   "outputs": [],
   "source": [
    "X_train = training_set.iloc[:,0:2].values\n",
    "Y_train = training_set.iloc[:,2].values\n",
    "X_test = test_set.iloc[:,0:2].values\n",
    "Y_test = test_set.iloc[:,2].values"
   ]
  },
  {
   "cell_type": "code",
   "execution_count": 96,
   "metadata": {},
   "outputs": [
    {
     "data": {
      "text/plain": [
       "SVC(C=1.0, cache_size=200, class_weight=None, coef0=0.0,\n",
       "  decision_function_shape='ovr', degree=3, gamma='auto', kernel='rbf',\n",
       "  max_iter=-1, probability=False, random_state=1, shrinking=True,\n",
       "  tol=0.001, verbose=False)"
      ]
     },
     "execution_count": 96,
     "metadata": {},
     "output_type": "execute_result"
    }
   ],
   "source": [
    "from sklearn.svm import SVC\n",
    "classifier = SVC(kernel='rbf', random_state = 1)\n",
    "classifier.fit(X_train,Y_train)"
   ]
  },
  {
   "cell_type": "code",
   "execution_count": 121,
   "metadata": {},
   "outputs": [],
   "source": [
    "Y_pred = classifier.predict(X_test)"
   ]
  },
  {
   "cell_type": "code",
   "execution_count": 122,
   "metadata": {},
   "outputs": [],
   "source": [
    "pred_results = pd.DataFrame({'y_test': Y_test,\n",
    "                             'y_pred': Y_pred})"
   ]
  },
  {
   "cell_type": "code",
   "execution_count": 123,
   "metadata": {},
   "outputs": [],
   "source": [
    "from sklearn.metrics import accuracy_score\n",
    "from sklearn.metrics import precision_score\n",
    "from sklearn.metrics import recall_score"
   ]
  },
  {
   "cell_type": "code",
   "execution_count": 124,
   "metadata": {},
   "outputs": [
    {
     "name": "stdout",
     "output_type": "stream",
     "text": [
      "accuracy_score :  1.0\n",
      "precision_score :  1.0\n",
      "recall_score :  1.0\n"
     ]
    }
   ],
   "source": [
    "acc = accuracy_score(Y_test, Y_pred) \n",
    "prec = precision_score(Y_test, Y_pred) \n",
    "recall = recall_score(Y_test, Y_pred)\n",
    "\n",
    "print(\"accuracy_score : \", acc) \n",
    "print(\"precision_score : \", prec) \n",
    "print(\"recall_score : \", recall)"
   ]
  },
  {
   "cell_type": "code",
   "execution_count": 125,
   "metadata": {},
   "outputs": [
    {
     "name": "stdout",
     "output_type": "stream",
     "text": [
      "[1 1 1 1 1 1 1 1 1 1 1 1 1 1 1 1 1 1 1 1 1 1 1 1 1 1 1 1 1 1 1 1 1 1 1 1 1\n",
      " 1 1 1 1 1 1 1 1 1 1 1 1 1 1 1 1 1 1 1 1 1 1 1 1 1 1 1 1 1 1 1 1 1 1 1 1 1\n",
      " 1 1 1 1 1 1 1 1 1 1 1 1 1 1 1 1 1 1 1 1 1 1 1 1 1 1 1 1 1 1 1 1 1 1 1 1 1\n",
      " 1 1 1 1 1 1 1 1 1 1 1 1 1 1 1 1 1 1 1 1 1 1 1 1 1 1 1 1 1]\n"
     ]
    }
   ],
   "source": [
    "\n",
    "print(Y_pred)"
   ]
  },
  {
   "cell_type": "code",
   "execution_count": 101,
   "metadata": {},
   "outputs": [
    {
     "name": "stdout",
     "output_type": "stream",
     "text": [
      "accuracy_score :  0.9344729344729344\n",
      "precision_score :  0.9344729344729344\n",
      "recall_score :  1.0\n"
     ]
    }
   ],
   "source": [
    "X_test = df3.iloc[:,0:2].values\n",
    "Y_pred = classifier.predict(X_test)\n",
    "Y_test = df3.iloc[:,2].values\n",
    "acc = accuracy_score(Y_test, Y_pred) \n",
    "prec = precision_score(Y_test, Y_pred) \n",
    "recall = recall_score(Y_test, Y_pred)\n",
    "\n",
    "print(\"accuracy_score : \", acc) \n",
    "print(\"precision_score : \", prec) \n",
    "print(\"recall_score : \", recall)"
   ]
  },
  {
   "cell_type": "code",
   "execution_count": 126,
   "metadata": {},
   "outputs": [],
   "source": [
    "from sklearn.ensemble import RandomForestClassifier\n",
    "from numpy.core.umath_tests import inner1d\n",
    "\n",
    "clf=RandomForestClassifier(n_estimators=100)\n",
    "\n",
    "clf.fit(X_train,Y_train)\n",
    "\n",
    "y_pred=clf.predict(X_test)"
   ]
  },
  {
   "cell_type": "code",
   "execution_count": 127,
   "metadata": {},
   "outputs": [
    {
     "name": "stdout",
     "output_type": "stream",
     "text": [
      "accuracy_score :  0.9071428571428571\n",
      "precision_score :  1.0\n",
      "recall_score :  0.9071428571428571\n"
     ]
    }
   ],
   "source": [
    "acc = accuracy_score(Y_test, y_pred) \n",
    "prec = precision_score(Y_test, y_pred) \n",
    "recall = recall_score(Y_test, y_pred)\n",
    "\n",
    "print(\"accuracy_score : \", acc) \n",
    "print(\"precision_score : \", prec) \n",
    "print(\"recall_score : \", recall)"
   ]
  },
  {
   "cell_type": "code",
   "execution_count": 129,
   "metadata": {},
   "outputs": [
    {
     "name": "stdout",
     "output_type": "stream",
     "text": [
      "[1 0 0 1 1 1 1 1 0 1 1 1 1 1 1 1 0 0 1 1 1 1 0 1 1 1 0 1 1 1 1 1 1 1 1 1 1\n",
      " 1 1 1 1 1 1 1 1 1 1 1 1 1 1 1 1 1 1 1 1 1 1 1 1 1 1 1 1 1 1 1 1 1 1 1 0 1\n",
      " 1 1 1 1 1 1 1 1 1 1 1 1 1 1 1 1 1 1 1 0 1 1 1 1 1 1 1 1 1 0 1 1 1 1 1 1 1\n",
      " 1 0 1 1 1 0 0 1 1 1 1 1 1 1 1 1 1 1 1 1 1 1 1 1 1 1 1 1 1]\n"
     ]
    }
   ],
   "source": [
    "print(y_pred)"
   ]
  },
  {
   "cell_type": "code",
   "execution_count": 83,
   "metadata": {},
   "outputs": [
    {
     "name": "stdout",
     "output_type": "stream",
     "text": [
      "accuracy_score :  0.9173789173789174\n",
      "precision_score :  0.9333333333333333\n",
      "recall_score :  0.9817073170731707\n"
     ]
    }
   ],
   "source": [
    "X_test = df3.iloc[:,0:2].values\n",
    "y_pred = classifier.predict(X_test)\n",
    "Y_test = df3.iloc[:,2].values\n",
    "acc = accuracy_score(Y_test, y_pred) \n",
    "prec = precision_score(Y_test, y_pred) \n",
    "recall = recall_score(Y_test, y_pred)\n",
    "\n",
    "print(\"accuracy_score : \", acc) \n",
    "print(\"precision_score : \", prec) \n",
    "print(\"recall_score : \", recall)"
   ]
  },
  {
   "cell_type": "code",
   "execution_count": null,
   "metadata": {},
   "outputs": [],
   "source": []
  }
 ],
 "metadata": {
  "kernelspec": {
   "display_name": "Python 3",
   "language": "python",
   "name": "python3"
  },
  "language_info": {
   "codemirror_mode": {
    "name": "ipython",
    "version": 3
   },
   "file_extension": ".py",
   "mimetype": "text/x-python",
   "name": "python",
   "nbconvert_exporter": "python",
   "pygments_lexer": "ipython3",
   "version": "3.7.0"
  }
 },
 "nbformat": 4,
 "nbformat_minor": 2
}

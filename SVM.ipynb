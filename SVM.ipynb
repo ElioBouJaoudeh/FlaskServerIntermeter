{
 "cells": [
  {
   "cell_type": "code",
   "execution_count": 24,
   "metadata": {},
   "outputs": [],
   "source": [
    "import pandas as pd\n",
    "import numpy as np\n",
    "import matplotlib.pyplot as plt\n",
    "import requests\n",
    "from requests import get"
   ]
  },
  {
   "cell_type": "code",
   "execution_count": 25,
   "metadata": {},
   "outputs": [],
   "source": [
    "    #adr = get('https://api.ipify.org').text\n",
    "    #sourceip = \"https://stat.ripe.net/data/whois/data.json?resource=\"+adr+\"%2F24\"\n",
    "    #responseip = requests.get(sourceip).json()\n",
    "    #pref = responseip[\"data\"][\"records\"][0][0][\"value\"]\n",
    "    #pref=pref[0:(len(pref)-3)]\n",
    "    #pref=\"91.232.100.0\"\n",
    "    pref=\"94.187.8.0\""
   ]
  },
  {
   "cell_type": "code",
   "execution_count": 29,
   "metadata": {},
   "outputs": [
    {
     "name": "stdout",
     "output_type": "stream",
     "text": [
      "[1 0]\n"
     ]
    }
   ],
   "source": [
    "url = 'https://stat.ripe.net/data/bgp-update-activity/data.json?endtime=2022-04-15T12%3A00%3A00&hide_empty_samples=false&max_samples=10000&resource='+pref+'&starttime=2021-04-29T00%3A00%3A00'\n",
    "r = requests.get(url)\n",
    "json = r.json()\n",
    "df = pd.DataFrame(json['data']['updates'])\n",
    "df.drop(\"starttime\", axis=1, inplace=True)\n",
    "r=df.shape[0]-1\n",
    "nb=df.iloc[r,0:2].values\n",
    "df = df.drop(df.shape[0]-1, axis=0)\n"
   ]
  },
  {
   "cell_type": "code",
   "execution_count": null,
   "metadata": {},
   "outputs": [],
   "source": [
    "def total_av():\n",
    "    m=df[\"announcements\"].mean()\n",
    "    i=0\n",
    "    l=[]\n",
    "    while (i<df.shape[0]):\n",
    "        if (df[\"announcements\"][i]<m):\n",
    "            l.append(0)\n",
    "        else:\n",
    "            l.append(1)\n",
    "        i=i+1\n",
    "    df[\"label\"]=l\n",
    "\n",
    "#total_av()"
   ]
  },
  {
   "cell_type": "code",
   "execution_count": 14,
   "metadata": {},
   "outputs": [],
   "source": [
    "def hourly_av():\n",
    "    l=[]\n",
    "    av=df[\"announcements\"].mean()\n",
    "    l.append(int(df[\"announcements\"][0]>av))\n",
    "    l.append(int(df[\"announcements\"][1]>av))\n",
    "    i=2\n",
    "    while (i<df.shape[0]):\n",
    "        m=(df[\"announcements\"][i-1]+df[\"announcements\"][i-2])/2\n",
    "        if (df[\"announcements\"][i]<m):\n",
    "            l.append(0)\n",
    "        else:\n",
    "            l.append(1)\n",
    "        i=i+1\n",
    "    df[\"label\"]=l\n",
    "    \n",
    "hourly_av()"
   ]
  },
  {
   "cell_type": "code",
   "execution_count": 15,
   "metadata": {},
   "outputs": [],
   "source": [
    "from sklearn.model_selection import train_test_split\n",
    "training_set, test_set = train_test_split(df, test_size = 0.2)"
   ]
  },
  {
   "cell_type": "code",
   "execution_count": 16,
   "metadata": {},
   "outputs": [],
   "source": [
    "X_train = training_set.iloc[:,0:2].values\n",
    "Y_train = training_set.iloc[:,2].values\n",
    "X_test = test_set.iloc[:,0:2].values\n",
    "Y_test = test_set.iloc[:,2].values"
   ]
  },
  {
   "cell_type": "code",
   "execution_count": 17,
   "metadata": {},
   "outputs": [
    {
     "data": {
      "text/plain": [
       "SVC(C=1.0, cache_size=200, class_weight=None, coef0=0.0,\n",
       "  decision_function_shape='ovr', degree=3, gamma=0.01, kernel='rbf',\n",
       "  max_iter=-1, probability=False, random_state=1, shrinking=True,\n",
       "  tol=0.001, verbose=False)"
      ]
     },
     "execution_count": 17,
     "metadata": {},
     "output_type": "execute_result"
    }
   ],
   "source": [
    "from sklearn.svm import SVC\n",
    "classifier = SVC(kernel='rbf', random_state = 1,gamma=0.01)\n",
    "classifier.fit(X_train,Y_train)"
   ]
  },
  {
   "cell_type": "code",
   "execution_count": 18,
   "metadata": {},
   "outputs": [],
   "source": [
    "Y_pred = classifier.predict(X_test)"
   ]
  },
  {
   "cell_type": "code",
   "execution_count": 19,
   "metadata": {},
   "outputs": [],
   "source": [
    "pred_results = pd.DataFrame({'y_test': Y_test,\n",
    "                             'y_pred': Y_pred})"
   ]
  },
  {
   "cell_type": "code",
   "execution_count": 20,
   "metadata": {},
   "outputs": [
    {
     "name": "stdout",
     "output_type": "stream",
     "text": [
      "      y_test  y_pred\n",
      "0          0       1\n",
      "1          0       1\n",
      "2          1       1\n",
      "3          0       0\n",
      "4          0       1\n",
      "5          1       1\n",
      "6          1       1\n",
      "7          1       1\n",
      "8          0       1\n",
      "9          0       0\n",
      "10         1       1\n",
      "11         1       0\n",
      "12         0       0\n",
      "13         1       1\n",
      "14         0       1\n",
      "15         0       0\n",
      "16         0       0\n",
      "17         1       1\n",
      "18         0       1\n",
      "19         1       1\n",
      "20         1       1\n",
      "21         0       0\n",
      "22         1       1\n",
      "23         1       1\n",
      "24         1       0\n",
      "25         1       1\n",
      "26         1       1\n",
      "27         0       1\n",
      "28         1       1\n",
      "29         0       0\n",
      "...      ...     ...\n",
      "1658       0       1\n",
      "1659       0       0\n",
      "1660       0       0\n",
      "1661       1       1\n",
      "1662       1       1\n",
      "1663       1       1\n",
      "1664       1       1\n",
      "1665       0       1\n",
      "1666       0       0\n",
      "1667       0       1\n",
      "1668       1       1\n",
      "1669       1       1\n",
      "1670       0       1\n",
      "1671       1       0\n",
      "1672       1       1\n",
      "1673       0       1\n",
      "1674       0       1\n",
      "1675       1       1\n",
      "1676       0       1\n",
      "1677       1       1\n",
      "1678       1       1\n",
      "1679       0       0\n",
      "1680       0       1\n",
      "1681       0       0\n",
      "1682       1       1\n",
      "1683       0       1\n",
      "1684       1       0\n",
      "1685       1       1\n",
      "1686       1       1\n",
      "1687       0       0\n",
      "\n",
      "[1688 rows x 2 columns]\n"
     ]
    }
   ],
   "source": [
    "print(pred_results)"
   ]
  },
  {
   "cell_type": "code",
   "execution_count": 21,
   "metadata": {},
   "outputs": [],
   "source": [
    "from sklearn.metrics import accuracy_score\n",
    "from sklearn.metrics import precision_score\n",
    "from sklearn.metrics import recall_score"
   ]
  },
  {
   "cell_type": "markdown",
   "metadata": {},
   "source": []
  },
  {
   "cell_type": "code",
   "execution_count": 22,
   "metadata": {},
   "outputs": [
    {
     "name": "stdout",
     "output_type": "stream",
     "text": [
      "accuracy_score :  0.6883886255924171\n",
      "precision_score :  0.6405797101449275\n",
      "recall_score :  0.8115055079559363\n"
     ]
    }
   ],
   "source": [
    "acc = accuracy_score(Y_test, Y_pred) \n",
    "prec = precision_score(Y_test, Y_pred) \n",
    "recall = recall_score(Y_test, Y_pred)\n",
    "\n",
    "print(\"accuracy_score : \", acc) \n",
    "print(\"precision_score : \", prec) \n",
    "print(\"recall_score : \", recall)"
   ]
  },
  {
   "cell_type": "code",
   "execution_count": 83,
   "metadata": {},
   "outputs": [],
   "source": [
    "from sklearn.ensemble import RandomForestClassifier\n",
    "from numpy.core.umath_tests import inner1d\n",
    "clf=RandomForestClassifier(n_estimators=100)\n",
    "\n",
    "\n",
    "clf.fit(X_train,Y_train)\n",
    "\n",
    "y_pred=clf.predict(X_test)"
   ]
  },
  {
   "cell_type": "code",
   "execution_count": 84,
   "metadata": {},
   "outputs": [
    {
     "name": "stdout",
     "output_type": "stream",
     "text": [
      "accuracy_score :  0.6907582938388626\n",
      "precision_score :  0.6676557863501483\n",
      "recall_score :  0.7839721254355401\n"
     ]
    }
   ],
   "source": [
    "acc = accuracy_score(Y_test, y_pred) \n",
    "prec = precision_score(Y_test, y_pred) \n",
    "recall = recall_score(Y_test, y_pred)\n",
    "\n",
    "print(\"accuracy_score : \", acc) \n",
    "print(\"precision_score : \", prec) \n",
    "print(\"recall_score : \", recall)"
   ]
  },
  {
   "cell_type": "code",
   "execution_count": 91,
   "metadata": {},
   "outputs": [
    {
     "data": {
      "text/plain": [
       "{'n_estimators': 100}"
      ]
     },
     "execution_count": 91,
     "metadata": {},
     "output_type": "execute_result"
    }
   ],
   "source": [
    "from sklearn.ensemble import RandomForestClassifier\n",
    "from sklearn.model_selection import GridSearchCV\n",
    "parameters = {'n_estimators': [100, 200, 300, 1000]}\n",
    "\n",
    "grid_search = GridSearchCV(RandomForestClassifier(), parameters, return_train_score=True)\n",
    "grid_search.fit(X_train, Y_train)\n",
    "\n",
    "grid_search.best_params_"
   ]
  },
  {
   "cell_type": "code",
   "execution_count": 93,
   "metadata": {},
   "outputs": [
    {
     "name": "stdout",
     "output_type": "stream",
     "text": [
      "Parameters:  {'n_estimators': 100}\n",
      "Mean Test Score:  0.6844991108476586\n",
      "Parameters:  {'n_estimators': 200}\n",
      "Mean Test Score:  0.6825726141078838\n",
      "Parameters:  {'n_estimators': 300}\n",
      "Mean Test Score:  0.6833135743924126\n",
      "Parameters:  {'n_estimators': 1000}\n",
      "Mean Test Score:  0.6837581505631298\n"
     ]
    }
   ],
   "source": [
    "for i in range(4):\n",
    "    print('Parameters: ', grid_search.cv_results_['params'][i])\n",
    "\n",
    "    print('Mean Test Score: ', grid_search.cv_results_['mean_test_score'][i])"
   ]
  },
  {
   "cell_type": "code",
   "execution_count": 30,
   "metadata": {},
   "outputs": [
    {
     "data": {
      "image/png": "[encoded data removed]",
      "text/plain": [
       "<Figure size 432x288 with 2 Axes>"
      ]
     },
     "metadata": {
      "needs_background": "light"
     },
     "output_type": "display_data"
    }
   ],
   "source": [
    "\n",
    "import seaborn as sns\n",
    "df.drop('label',axis=1,inplace=True)\n",
    "sns.heatmap(df.corr());"
   ]
  },
  {
   "cell_type": "code",
   "execution_count": 94,
   "metadata": {},
   "outputs": [
    {
     "data": {
      "text/plain": [
       "{'C': 1, 'gamma': 0.1, 'kernel': 'rbf'}"
      ]
     },
     "execution_count": 94,
     "metadata": {},
     "output_type": "execute_result"
    }
   ],
   "source": [
    "from sklearn.svm import SVC\n",
    "from sklearn.model_selection import GridSearchCV\n",
    "parameters = {'C': [0.0001, 0.001, 0.01, 0.1, 1, 10],'gamma':[0.0001, 0.001, 0.01, 0.1, 1],'kernel':['linear','rbf','sigmoid']}\n",
    "\n",
    "grid_search = GridSearchCV(SVC(), parameters, return_train_score=True)\n",
    "grid_search.fit(X_train, Y_train)\n",
    "\n",
    "grid_search.best_params_"
   ]
  },
  {
   "cell_type": "code",
   "execution_count": 95,
   "metadata": {},
   "outputs": [
    {
     "name": "stdout",
     "output_type": "stream",
     "text": [
      "Parameters:  {'C': 0.0001, 'gamma': 0.0001, 'kernel': 'linear'}\n",
      "Mean Test Score:  0.5958802608180201\n",
      "Parameters:  {'C': 0.0001, 'gamma': 0.0001, 'kernel': 'rbf'}\n",
      "Mean Test Score:  0.5020746887966805\n",
      "Parameters:  {'C': 0.0001, 'gamma': 0.0001, 'kernel': 'sigmoid'}\n",
      "Mean Test Score:  0.5020746887966805\n",
      "Parameters:  {'C': 0.0001, 'gamma': 0.001, 'kernel': 'linear'}\n",
      "Mean Test Score:  0.5958802608180201\n",
      "Parameters:  {'C': 0.0001, 'gamma': 0.001, 'kernel': 'rbf'}\n",
      "Mean Test Score:  0.5020746887966805\n",
      "Parameters:  {'C': 0.0001, 'gamma': 0.001, 'kernel': 'sigmoid'}\n",
      "Mean Test Score:  0.5020746887966805\n",
      "Parameters:  {'C': 0.0001, 'gamma': 0.01, 'kernel': 'linear'}\n",
      "Mean Test Score:  0.5958802608180201\n",
      "Parameters:  {'C': 0.0001, 'gamma': 0.01, 'kernel': 'rbf'}\n",
      "Mean Test Score:  0.5020746887966805\n",
      "Parameters:  {'C': 0.0001, 'gamma': 0.01, 'kernel': 'sigmoid'}\n",
      "Mean Test Score:  0.5020746887966805\n",
      "Parameters:  {'C': 0.0001, 'gamma': 0.1, 'kernel': 'linear'}\n",
      "Mean Test Score:  0.5958802608180201\n",
      "Parameters:  {'C': 0.0001, 'gamma': 0.1, 'kernel': 'rbf'}\n",
      "Mean Test Score:  0.5020746887966805\n",
      "Parameters:  {'C': 0.0001, 'gamma': 0.1, 'kernel': 'sigmoid'}\n",
      "Mean Test Score:  0.5020746887966805\n",
      "Parameters:  {'C': 0.0001, 'gamma': 1, 'kernel': 'linear'}\n",
      "Mean Test Score:  0.5958802608180201\n",
      "Parameters:  {'C': 0.0001, 'gamma': 1, 'kernel': 'rbf'}\n",
      "Mean Test Score:  0.5020746887966805\n",
      "Parameters:  {'C': 0.0001, 'gamma': 1, 'kernel': 'sigmoid'}\n",
      "Mean Test Score:  0.5020746887966805\n",
      "Parameters:  {'C': 0.001, 'gamma': 0.0001, 'kernel': 'linear'}\n",
      "Mean Test Score:  0.6032898636633076\n",
      "Parameters:  {'C': 0.001, 'gamma': 0.0001, 'kernel': 'rbf'}\n",
      "Mean Test Score:  0.5020746887966805\n",
      "Parameters:  {'C': 0.001, 'gamma': 0.0001, 'kernel': 'sigmoid'}\n",
      "Mean Test Score:  0.5020746887966805\n",
      "Parameters:  {'C': 0.001, 'gamma': 0.001, 'kernel': 'linear'}\n",
      "Mean Test Score:  0.6032898636633076\n",
      "Parameters:  {'C': 0.001, 'gamma': 0.001, 'kernel': 'rbf'}\n",
      "Mean Test Score:  0.5020746887966805\n",
      "Parameters:  {'C': 0.001, 'gamma': 0.001, 'kernel': 'sigmoid'}\n",
      "Mean Test Score:  0.5020746887966805\n",
      "Parameters:  {'C': 0.001, 'gamma': 0.01, 'kernel': 'linear'}\n",
      "Mean Test Score:  0.6032898636633076\n",
      "Parameters:  {'C': 0.001, 'gamma': 0.01, 'kernel': 'rbf'}\n",
      "Mean Test Score:  0.5020746887966805\n",
      "Parameters:  {'C': 0.001, 'gamma': 0.01, 'kernel': 'sigmoid'}\n",
      "Mean Test Score:  0.5020746887966805\n",
      "Parameters:  {'C': 0.001, 'gamma': 0.1, 'kernel': 'linear'}\n",
      "Mean Test Score:  0.6032898636633076\n",
      "Parameters:  {'C': 0.001, 'gamma': 0.1, 'kernel': 'rbf'}\n",
      "Mean Test Score:  0.5020746887966805\n",
      "Parameters:  {'C': 0.001, 'gamma': 0.1, 'kernel': 'sigmoid'}\n",
      "Mean Test Score:  0.5020746887966805\n",
      "Parameters:  {'C': 0.001, 'gamma': 1, 'kernel': 'linear'}\n",
      "Mean Test Score:  0.6032898636633076\n",
      "Parameters:  {'C': 0.001, 'gamma': 1, 'kernel': 'rbf'}\n",
      "Mean Test Score:  0.5020746887966805\n",
      "Parameters:  {'C': 0.001, 'gamma': 1, 'kernel': 'sigmoid'}\n",
      "Mean Test Score:  0.5020746887966805\n",
      "Parameters:  {'C': 0.01, 'gamma': 0.0001, 'kernel': 'linear'}\n",
      "Mean Test Score:  0.6025489033787789\n",
      "Parameters:  {'C': 0.01, 'gamma': 0.0001, 'kernel': 'rbf'}\n",
      "Mean Test Score:  0.5293420272673385\n",
      "Parameters:  {'C': 0.01, 'gamma': 0.0001, 'kernel': 'sigmoid'}\n",
      "Mean Test Score:  0.5253408417308832\n",
      "Parameters:  {'C': 0.01, 'gamma': 0.001, 'kernel': 'linear'}\n",
      "Mean Test Score:  0.6025489033787789\n",
      "Parameters:  {'C': 0.01, 'gamma': 0.001, 'kernel': 'rbf'}\n",
      "Mean Test Score:  0.5942501481920569\n",
      "Parameters:  {'C': 0.01, 'gamma': 0.001, 'kernel': 'sigmoid'}\n",
      "Mean Test Score:  0.5597213989330172\n",
      "Parameters:  {'C': 0.01, 'gamma': 0.01, 'kernel': 'linear'}\n",
      "Mean Test Score:  0.6025489033787789\n",
      "Parameters:  {'C': 0.01, 'gamma': 0.01, 'kernel': 'rbf'}\n",
      "Mean Test Score:  0.6330764671013633\n",
      "Parameters:  {'C': 0.01, 'gamma': 0.01, 'kernel': 'sigmoid'}\n",
      "Mean Test Score:  0.5933609958506224\n",
      "Parameters:  {'C': 0.01, 'gamma': 0.1, 'kernel': 'linear'}\n",
      "Mean Test Score:  0.6025489033787789\n",
      "Parameters:  {'C': 0.01, 'gamma': 0.1, 'kernel': 'rbf'}\n",
      "Mean Test Score:  0.6840545346769413\n",
      "Parameters:  {'C': 0.01, 'gamma': 0.1, 'kernel': 'sigmoid'}\n",
      "Mean Test Score:  0.5729104919976289\n",
      "Parameters:  {'C': 0.01, 'gamma': 1, 'kernel': 'linear'}\n",
      "Mean Test Score:  0.6025489033787789\n",
      "Parameters:  {'C': 0.01, 'gamma': 1, 'kernel': 'rbf'}\n",
      "Mean Test Score:  0.6819798458802608\n",
      "Parameters:  {'C': 0.01, 'gamma': 1, 'kernel': 'sigmoid'}\n",
      "Mean Test Score:  0.6493775933609959\n",
      "Parameters:  {'C': 0.1, 'gamma': 0.0001, 'kernel': 'linear'}\n",
      "Mean Test Score:  0.6026970954356846\n",
      "Parameters:  {'C': 0.1, 'gamma': 0.0001, 'kernel': 'rbf'}\n",
      "Mean Test Score:  0.5816538233550682\n",
      "Parameters:  {'C': 0.1, 'gamma': 0.0001, 'kernel': 'sigmoid'}\n",
      "Mean Test Score:  0.5537937166567872\n",
      "Parameters:  {'C': 0.1, 'gamma': 0.001, 'kernel': 'linear'}\n",
      "Mean Test Score:  0.6026970954356846\n",
      "Parameters:  {'C': 0.1, 'gamma': 0.001, 'kernel': 'rbf'}\n",
      "Mean Test Score:  0.6170717249555424\n",
      "Parameters:  {'C': 0.1, 'gamma': 0.001, 'kernel': 'sigmoid'}\n",
      "Mean Test Score:  0.6504149377593361\n",
      "Parameters:  {'C': 0.1, 'gamma': 0.01, 'kernel': 'linear'}\n",
      "Mean Test Score:  0.6026970954356846\n",
      "Parameters:  {'C': 0.1, 'gamma': 0.01, 'kernel': 'rbf'}\n",
      "Mean Test Score:  0.6641967990515708\n",
      "Parameters:  {'C': 0.1, 'gamma': 0.01, 'kernel': 'sigmoid'}\n",
      "Mean Test Score:  0.5994368701837581\n",
      "Parameters:  {'C': 0.1, 'gamma': 0.1, 'kernel': 'linear'}\n",
      "Mean Test Score:  0.6026970954356846\n",
      "Parameters:  {'C': 0.1, 'gamma': 0.1, 'kernel': 'rbf'}\n",
      "Mean Test Score:  0.6791641967990516\n",
      "Parameters:  {'C': 0.1, 'gamma': 0.1, 'kernel': 'sigmoid'}\n",
      "Mean Test Score:  0.5791345583876705\n",
      "Parameters:  {'C': 0.1, 'gamma': 1, 'kernel': 'linear'}\n",
      "Mean Test Score:  0.6026970954356846\n",
      "Parameters:  {'C': 0.1, 'gamma': 1, 'kernel': 'rbf'}\n",
      "Mean Test Score:  0.6827208061647896\n",
      "Parameters:  {'C': 0.1, 'gamma': 1, 'kernel': 'sigmoid'}\n",
      "Mean Test Score:  0.6397451096621221\n",
      "Parameters:  {'C': 1, 'gamma': 0.0001, 'kernel': 'linear'}\n",
      "Mean Test Score:  0.6024007113218731\n",
      "Parameters:  {'C': 1, 'gamma': 0.0001, 'kernel': 'rbf'}\n",
      "Mean Test Score:  0.6120331950207469\n",
      "Parameters:  {'C': 1, 'gamma': 0.0001, 'kernel': 'sigmoid'}\n",
      "Mean Test Score:  0.6604919976289271\n",
      "Parameters:  {'C': 1, 'gamma': 0.001, 'kernel': 'linear'}\n",
      "Mean Test Score:  0.6024007113218731\n",
      "Parameters:  {'C': 1, 'gamma': 0.001, 'kernel': 'rbf'}\n",
      "Mean Test Score:  0.6520450503852994\n",
      "Parameters:  {'C': 1, 'gamma': 0.001, 'kernel': 'sigmoid'}\n",
      "Mean Test Score:  0.6391523414344991\n",
      "Parameters:  {'C': 1, 'gamma': 0.01, 'kernel': 'linear'}\n",
      "Mean Test Score:  0.6024007113218731\n",
      "Parameters:  {'C': 1, 'gamma': 0.01, 'kernel': 'rbf'}\n",
      "Mean Test Score:  0.6858328393598103\n",
      "Parameters:  {'C': 1, 'gamma': 0.01, 'kernel': 'sigmoid'}\n",
      "Mean Test Score:  0.5995850622406639\n",
      "Parameters:  {'C': 1, 'gamma': 0.1, 'kernel': 'linear'}\n",
      "Mean Test Score:  0.6024007113218731\n",
      "Parameters:  {'C': 1, 'gamma': 0.1, 'kernel': 'rbf'}\n",
      "Mean Test Score:  0.689537640782454\n",
      "Parameters:  {'C': 1, 'gamma': 0.1, 'kernel': 'sigmoid'}\n",
      "Mean Test Score:  0.5726141078838174\n",
      "Parameters:  {'C': 1, 'gamma': 1, 'kernel': 'linear'}\n",
      "Mean Test Score:  0.6024007113218731\n",
      "Parameters:  {'C': 1, 'gamma': 1, 'kernel': 'rbf'}\n",
      "Mean Test Score:  0.6842027267338471\n",
      "Parameters:  {'C': 1, 'gamma': 1, 'kernel': 'sigmoid'}\n",
      "Mean Test Score:  0.6270005927682276\n",
      "Parameters:  {'C': 10, 'gamma': 0.0001, 'kernel': 'linear'}\n",
      "Mean Test Score:  0.6026970954356846\n",
      "Parameters:  {'C': 10, 'gamma': 0.0001, 'kernel': 'rbf'}\n",
      "Mean Test Score:  0.6172199170124482\n",
      "Parameters:  {'C': 10, 'gamma': 0.0001, 'kernel': 'sigmoid'}\n",
      "Mean Test Score:  0.6486366330764671\n",
      "Parameters:  {'C': 10, 'gamma': 0.001, 'kernel': 'linear'}\n",
      "Mean Test Score:  0.6026970954356846\n",
      "Parameters:  {'C': 10, 'gamma': 0.001, 'kernel': 'rbf'}\n",
      "Mean Test Score:  0.6653823355068168\n",
      "Parameters:  {'C': 10, 'gamma': 0.001, 'kernel': 'sigmoid'}\n",
      "Mean Test Score:  0.6354475400118553\n",
      "Parameters:  {'C': 10, 'gamma': 0.01, 'kernel': 'linear'}\n",
      "Mean Test Score:  0.6026970954356846\n",
      "Parameters:  {'C': 10, 'gamma': 0.01, 'kernel': 'rbf'}\n",
      "Mean Test Score:  0.6893894487255483\n",
      "Parameters:  {'C': 10, 'gamma': 0.01, 'kernel': 'sigmoid'}\n",
      "Mean Test Score:  0.5995850622406639\n",
      "Parameters:  {'C': 10, 'gamma': 0.1, 'kernel': 'linear'}\n",
      "Mean Test Score:  0.6026970954356846\n",
      "Parameters:  {'C': 10, 'gamma': 0.1, 'kernel': 'rbf'}\n",
      "Mean Test Score:  0.6887966804979253\n",
      "Parameters:  {'C': 10, 'gamma': 0.1, 'kernel': 'sigmoid'}\n",
      "Mean Test Score:  0.5726141078838174\n",
      "Parameters:  {'C': 10, 'gamma': 1, 'kernel': 'linear'}\n",
      "Mean Test Score:  0.6026970954356846\n",
      "Parameters:  {'C': 10, 'gamma': 1, 'kernel': 'rbf'}\n",
      "Mean Test Score:  0.6837581505631298\n",
      "Parameters:  {'C': 10, 'gamma': 1, 'kernel': 'sigmoid'}\n",
      "Mean Test Score:  0.5600177830468287\n"
     ]
    }
   ],
   "source": [
    "for i in range(90):\n",
    "    print('Parameters: ', grid_search.cv_results_['params'][i])\n",
    "\n",
    "    print('Mean Test Score: ', grid_search.cv_results_['mean_test_score'][i])"
   ]
  }
 ],
 "metadata": {
  "kernelspec": {
   "display_name": "Python 3",
   "language": "python",
   "name": "python3"
  },
  "language_info": {
   "codemirror_mode": {
    "name": "ipython",
    "version": 3
   },
   "file_extension": ".py",
   "mimetype": "text/x-python",
   "name": "python",
   "nbconvert_exporter": "python",
   "pygments_lexer": "ipython3",
   "version": "3.7.0"
  }
 },
 "nbformat": 4,
 "nbformat_minor": 2
}
